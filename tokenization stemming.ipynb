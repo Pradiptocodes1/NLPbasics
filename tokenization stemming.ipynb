{
 "cells": [
  {
   "cell_type": "code",
   "execution_count": 4,
   "id": "8216839b",
   "metadata": {},
   "outputs": [
    {
     "name": "stdout",
     "output_type": "stream",
     "text": [
      "Collecting nltk\n",
      "  Using cached nltk-3.8.1-py3-none-any.whl (1.5 MB)\n",
      "Requirement already satisfied: click in c:\\users\\kiit\\anaconda3\\envs\\pytorchenv\\lib\\site-packages (from nltk) (8.1.3)\n",
      "Collecting regex>=2021.8.3\n",
      "  Downloading regex-2023.12.25-cp38-cp38-win_amd64.whl (269 kB)\n",
      "Requirement already satisfied: joblib in c:\\users\\kiit\\anaconda3\\envs\\pytorchenv\\lib\\site-packages (from nltk) (1.2.0)\n",
      "Requirement already satisfied: tqdm in c:\\users\\kiit\\anaconda3\\envs\\pytorchenv\\lib\\site-packages (from nltk) (4.62.3)\n",
      "Requirement already satisfied: colorama in c:\\users\\kiit\\anaconda3\\envs\\pytorchenv\\lib\\site-packages (from click->nltk) (0.4.6)\n",
      "Installing collected packages: regex, nltk\n",
      "Successfully installed nltk-3.8.1 regex-2023.12.25\n"
     ]
    },
    {
     "name": "stderr",
     "output_type": "stream",
     "text": [
      "WARNING: Ignoring invalid distribution -rotobuf (c:\\users\\kiit\\anaconda3\\envs\\pytorchenv\\lib\\site-packages)\n",
      "WARNING: Ignoring invalid distribution -rotobuf (c:\\users\\kiit\\anaconda3\\envs\\pytorchenv\\lib\\site-packages)\n",
      "WARNING: Ignoring invalid distribution -rotobuf (c:\\users\\kiit\\anaconda3\\envs\\pytorchenv\\lib\\site-packages)\n",
      "WARNING: Ignoring invalid distribution -rotobuf (c:\\users\\kiit\\anaconda3\\envs\\pytorchenv\\lib\\site-packages)\n",
      "WARNING: Ignoring invalid distribution -rotobuf (c:\\users\\kiit\\anaconda3\\envs\\pytorchenv\\lib\\site-packages)\n",
      "WARNING: Ignoring invalid distribution -rotobuf (c:\\users\\kiit\\anaconda3\\envs\\pytorchenv\\lib\\site-packages)\n",
      "WARNING: Ignoring invalid distribution -rotobuf (c:\\users\\kiit\\anaconda3\\envs\\pytorchenv\\lib\\site-packages)\n",
      "WARNING: Ignoring invalid distribution -rotobuf (c:\\users\\kiit\\anaconda3\\envs\\pytorchenv\\lib\\site-packages)\n"
     ]
    }
   ],
   "source": [
    "!pip install nltk\n",
    "import nltk"
   ]
  },
  {
   "cell_type": "code",
   "execution_count": 5,
   "id": "e666e879",
   "metadata": {},
   "outputs": [],
   "source": [
    "import nltk"
   ]
  },
  {
   "cell_type": "code",
   "execution_count": 6,
   "id": "646eb24f",
   "metadata": {},
   "outputs": [],
   "source": [
    "from nltk.tokenize import sent_tokenize"
   ]
  },
  {
   "cell_type": "code",
   "execution_count": 7,
   "id": "603cd769",
   "metadata": {},
   "outputs": [],
   "source": [
    "par=\"India is a democratic country. So, use your freedom and wisdom in a good way. Rock On!\""
   ]
  },
  {
   "cell_type": "code",
   "execution_count": 12,
   "id": "ad7c9f7f",
   "metadata": {},
   "outputs": [
    {
     "name": "stderr",
     "output_type": "stream",
     "text": [
      "[nltk_data] Downloading package punkt to\n",
      "[nltk_data]     C:\\Users\\KIIT\\AppData\\Roaming\\nltk_data...\n",
      "[nltk_data]   Unzipping tokenizers\\punkt.zip.\n"
     ]
    },
    {
     "data": {
      "text/plain": [
       "True"
      ]
     },
     "execution_count": 12,
     "metadata": {},
     "output_type": "execute_result"
    }
   ],
   "source": [
    "nltk.download('punkt')"
   ]
  },
  {
   "cell_type": "code",
   "execution_count": 9,
   "id": "0554194e",
   "metadata": {},
   "outputs": [
    {
     "data": {
      "text/plain": [
       "str"
      ]
     },
     "execution_count": 9,
     "metadata": {},
     "output_type": "execute_result"
    }
   ],
   "source": [
    "type(par)"
   ]
  },
  {
   "cell_type": "code",
   "execution_count": 14,
   "id": "1a7083bf",
   "metadata": {},
   "outputs": [],
   "source": [
    "sents=sent_tokenize(par)"
   ]
  },
  {
   "cell_type": "code",
   "execution_count": 15,
   "id": "d2bfce1d",
   "metadata": {},
   "outputs": [
    {
     "name": "stdout",
     "output_type": "stream",
     "text": [
      "India is a democratic country.\n",
      "So, use your freedom and wisdom in a good way.\n",
      "Rock On!\n"
     ]
    }
   ],
   "source": [
    "for i in sents:\n",
    "    print(i)"
   ]
  },
  {
   "cell_type": "code",
   "execution_count": 16,
   "id": "c69d40c4",
   "metadata": {},
   "outputs": [
    {
     "name": "stdout",
     "output_type": "stream",
     "text": [
      "Rock On!\n"
     ]
    }
   ],
   "source": [
    "print(sents[2])"
   ]
  },
  {
   "cell_type": "code",
   "execution_count": 17,
   "id": "a83d8ccf",
   "metadata": {},
   "outputs": [],
   "source": [
    "#word tokenization"
   ]
  },
  {
   "cell_type": "code",
   "execution_count": 18,
   "id": "580de6b0",
   "metadata": {},
   "outputs": [],
   "source": [
    "from nltk.tokenize import word_tokenize"
   ]
  },
  {
   "cell_type": "code",
   "execution_count": 27,
   "id": "4ab9013c",
   "metadata": {},
   "outputs": [],
   "source": [
    "tokens=word_tokenize(\"Why $are *you shouting??\")"
   ]
  },
  {
   "cell_type": "code",
   "execution_count": 29,
   "id": "c9542f26",
   "metadata": {},
   "outputs": [
    {
     "data": {
      "text/plain": [
       "8"
      ]
     },
     "execution_count": 29,
     "metadata": {},
     "output_type": "execute_result"
    }
   ],
   "source": [
    "len(tokens)"
   ]
  },
  {
   "cell_type": "code",
   "execution_count": 28,
   "id": "73362869",
   "metadata": {
    "scrolled": true
   },
   "outputs": [
    {
     "name": "stdout",
     "output_type": "stream",
     "text": [
      "Why $ are * you shouting ? ? "
     ]
    }
   ],
   "source": [
    "for i in tokens:\n",
    "    print(i, end=\" \")"
   ]
  },
  {
   "cell_type": "code",
   "execution_count": 25,
   "id": "9d7a2c61",
   "metadata": {},
   "outputs": [],
   "source": [
    "text=\"Why are you shouting?\""
   ]
  },
  {
   "cell_type": "code",
   "execution_count": 26,
   "id": "91067fc7",
   "metadata": {},
   "outputs": [
    {
     "data": {
      "text/plain": [
       "['Why', 'are', 'you', 'shouting?']"
      ]
     },
     "execution_count": 26,
     "metadata": {},
     "output_type": "execute_result"
    }
   ],
   "source": [
    "text.split()"
   ]
  },
  {
   "cell_type": "code",
   "execution_count": 31,
   "id": "610b09a4",
   "metadata": {},
   "outputs": [],
   "source": [
    "#stemming"
   ]
  },
  {
   "cell_type": "code",
   "execution_count": 32,
   "id": "02d16f50",
   "metadata": {},
   "outputs": [],
   "source": [
    "from nltk.stem import PorterStemmer"
   ]
  },
  {
   "cell_type": "code",
   "execution_count": 36,
   "id": "721554b0",
   "metadata": {},
   "outputs": [],
   "source": [
    "ps=PorterStemmer()"
   ]
  },
  {
   "cell_type": "code",
   "execution_count": 37,
   "id": "79738853",
   "metadata": {},
   "outputs": [
    {
     "data": {
      "text/plain": [
       "'teach'"
      ]
     },
     "execution_count": 37,
     "metadata": {},
     "output_type": "execute_result"
    }
   ],
   "source": [
    "ps.stem(\"teaching\")"
   ]
  },
  {
   "cell_type": "code",
   "execution_count": 38,
   "id": "b91471b5",
   "metadata": {},
   "outputs": [],
   "source": [
    "list1 = [\"teaches\", \"teacher\", \"teaching\", \"taught\", \"teach\"]"
   ]
  },
  {
   "cell_type": "code",
   "execution_count": 41,
   "id": "30daaefd",
   "metadata": {},
   "outputs": [
    {
     "name": "stdout",
     "output_type": "stream",
     "text": [
      "teach teacher teach taught teach "
     ]
    }
   ],
   "source": [
    "for i in list1:\n",
    "    print(ps.stem(i), end=\" \")"
   ]
  },
  {
   "cell_type": "code",
   "execution_count": 43,
   "id": "e27a6765",
   "metadata": {},
   "outputs": [
    {
     "name": "stdout",
     "output_type": "stream",
     "text": [
      "& # run * "
     ]
    }
   ],
   "source": [
    "for x in word_tokenize(\"&#running*\"):\n",
    "    print(ps.stem(x), end=\" \")"
   ]
  },
  {
   "cell_type": "code",
   "execution_count": 48,
   "id": "590748d8",
   "metadata": {},
   "outputs": [],
   "source": [
    "sentence1= \"I really liked the movie very much\"\n",
    "tokens1=word_tokenize(sentence1)"
   ]
  },
  {
   "cell_type": "code",
   "execution_count": 49,
   "id": "ebe74d4c",
   "metadata": {},
   "outputs": [
    {
     "name": "stdout",
     "output_type": "stream",
     "text": [
      "i realli like the movi veri much "
     ]
    }
   ],
   "source": [
    "for i in tokens1:\n",
    "    print(ps.stem(i), end=\" \")"
   ]
  },
  {
   "cell_type": "code",
   "execution_count": 50,
   "id": "8b860013",
   "metadata": {},
   "outputs": [],
   "source": [
    "from nltk.stem import LancasterStemmer"
   ]
  },
  {
   "cell_type": "code",
   "execution_count": 53,
   "id": "7b309b36",
   "metadata": {},
   "outputs": [],
   "source": [
    "ls=LancasterStemmer()"
   ]
  },
  {
   "cell_type": "code",
   "execution_count": 54,
   "id": "43c617fa",
   "metadata": {},
   "outputs": [
    {
     "name": "stdout",
     "output_type": "stream",
     "text": [
      "i real lik the movy very much "
     ]
    }
   ],
   "source": [
    "for i in tokens1:\n",
    "    print(ls.stem(i), end=\" \")"
   ]
  },
  {
   "cell_type": "code",
   "execution_count": 55,
   "id": "e416d440",
   "metadata": {},
   "outputs": [],
   "source": [
    "from nltk.stem import SnowballStemmer"
   ]
  },
  {
   "cell_type": "code",
   "execution_count": 57,
   "id": "3952d590",
   "metadata": {},
   "outputs": [],
   "source": [
    "sn=SnowballStemmer(language='english')"
   ]
  },
  {
   "cell_type": "code",
   "execution_count": 58,
   "id": "2538a5fa",
   "metadata": {},
   "outputs": [
    {
     "name": "stdout",
     "output_type": "stream",
     "text": [
      "i realli like the movi veri much "
     ]
    }
   ],
   "source": [
    "for i in tokens1:\n",
    "    print(sn.stem(i), end=\" \")"
   ]
  },
  {
   "cell_type": "code",
   "execution_count": null,
   "id": "e16c11bd",
   "metadata": {},
   "outputs": [],
   "source": []
  }
 ],
 "metadata": {
  "kernelspec": {
   "display_name": "Python 3 (ipykernel)",
   "language": "python",
   "name": "python3"
  },
  "language_info": {
   "codemirror_mode": {
    "name": "ipython",
    "version": 3
   },
   "file_extension": ".py",
   "mimetype": "text/x-python",
   "name": "python",
   "nbconvert_exporter": "python",
   "pygments_lexer": "ipython3",
   "version": "3.8.0"
  }
 },
 "nbformat": 4,
 "nbformat_minor": 5
}
