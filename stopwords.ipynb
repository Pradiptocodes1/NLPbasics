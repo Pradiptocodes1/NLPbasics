{
 "cells": [
  {
   "cell_type": "code",
   "execution_count": 1,
   "id": "878f54ff",
   "metadata": {},
   "outputs": [],
   "source": [
    "#functional lexenes are the stopwords. We remmove it generally"
   ]
  },
  {
   "cell_type": "code",
   "execution_count": 5,
   "id": "f7bea049",
   "metadata": {},
   "outputs": [
    {
     "name": "stderr",
     "output_type": "stream",
     "text": [
      "[nltk_data] Downloading package stopwords to\n",
      "[nltk_data]     C:\\Users\\KIIT\\AppData\\Roaming\\nltk_data...\n",
      "[nltk_data]   Unzipping corpora\\stopwords.zip.\n"
     ]
    },
    {
     "data": {
      "text/plain": [
       "True"
      ]
     },
     "execution_count": 5,
     "metadata": {},
     "output_type": "execute_result"
    }
   ],
   "source": [
    "import nltk\n",
    "nltk.download('stopwords')"
   ]
  },
  {
   "cell_type": "code",
   "execution_count": 3,
   "id": "48484076",
   "metadata": {},
   "outputs": [],
   "source": [
    "from nltk.corpus import stopwords"
   ]
  },
  {
   "cell_type": "code",
   "execution_count": 7,
   "id": "5b35db46",
   "metadata": {},
   "outputs": [],
   "source": [
    "stops=stopwords.words('english')"
   ]
  },
  {
   "cell_type": "code",
   "execution_count": 8,
   "id": "7291f16a",
   "metadata": {},
   "outputs": [
    {
     "name": "stdout",
     "output_type": "stream",
     "text": [
      "['i', 'me', 'my', 'myself', 'we', 'our', 'ours', 'ourselves', 'you', \"you're\", \"you've\", \"you'll\", \"you'd\", 'your', 'yours', 'yourself', 'yourselves', 'he', 'him', 'his', 'himself', 'she', \"she's\", 'her', 'hers', 'herself', 'it', \"it's\", 'its', 'itself', 'they', 'them', 'their', 'theirs', 'themselves', 'what', 'which', 'who', 'whom', 'this', 'that', \"that'll\", 'these', 'those', 'am', 'is', 'are', 'was', 'were', 'be', 'been', 'being', 'have', 'has', 'had', 'having', 'do', 'does', 'did', 'doing', 'a', 'an', 'the', 'and', 'but', 'if', 'or', 'because', 'as', 'until', 'while', 'of', 'at', 'by', 'for', 'with', 'about', 'against', 'between', 'into', 'through', 'during', 'before', 'after', 'above', 'below', 'to', 'from', 'up', 'down', 'in', 'out', 'on', 'off', 'over', 'under', 'again', 'further', 'then', 'once', 'here', 'there', 'when', 'where', 'why', 'how', 'all', 'any', 'both', 'each', 'few', 'more', 'most', 'other', 'some', 'such', 'no', 'nor', 'not', 'only', 'own', 'same', 'so', 'than', 'too', 'very', 's', 't', 'can', 'will', 'just', 'don', \"don't\", 'should', \"should've\", 'now', 'd', 'll', 'm', 'o', 're', 've', 'y', 'ain', 'aren', \"aren't\", 'couldn', \"couldn't\", 'didn', \"didn't\", 'doesn', \"doesn't\", 'hadn', \"hadn't\", 'hasn', \"hasn't\", 'haven', \"haven't\", 'isn', \"isn't\", 'ma', 'mightn', \"mightn't\", 'mustn', \"mustn't\", 'needn', \"needn't\", 'shan', \"shan't\", 'shouldn', \"shouldn't\", 'wasn', \"wasn't\", 'weren', \"weren't\", 'won', \"won't\", 'wouldn', \"wouldn't\"]\n"
     ]
    }
   ],
   "source": [
    "print(stops) #consisting of Pronouns,Determinants,conjunctions,prepositons,auxiliary words"
   ]
  },
  {
   "cell_type": "code",
   "execution_count": 10,
   "id": "f07d052a",
   "metadata": {},
   "outputs": [
    {
     "name": "stdout",
     "output_type": "stream",
     "text": [
      "179\n"
     ]
    }
   ],
   "source": [
    "print(len(stops))"
   ]
  },
  {
   "cell_type": "code",
   "execution_count": 11,
   "id": "59317eca",
   "metadata": {},
   "outputs": [],
   "source": [
    "#german spanish italian french"
   ]
  },
  {
   "cell_type": "code",
   "execution_count": 12,
   "id": "7743f06b",
   "metadata": {},
   "outputs": [],
   "source": [
    "stopsG=stopwords.words('german')\n",
    "stopsS=stopwords.words('spanish')\n",
    "stopsI=stopwords.words('italian')\n",
    "stopsF=stopwords.words('french')"
   ]
  },
  {
   "cell_type": "code",
   "execution_count": 13,
   "id": "b82ae0de",
   "metadata": {},
   "outputs": [
    {
     "name": "stdout",
     "output_type": "stream",
     "text": [
      "Length of German: 232\n",
      "Length of Spanish: 313\n",
      "Length of Italian: 279\n",
      "Length of French: 157\n"
     ]
    }
   ],
   "source": [
    "print(f'Length of German: {len(stopsG)}')\n",
    "print(f'Length of Spanish: {len(stopsS)}')\n",
    "print(f'Length of Italian: {len(stopsI)}')\n",
    "print(f'Length of French: {len(stopsF)}')"
   ]
  },
  {
   "cell_type": "code",
   "execution_count": 15,
   "id": "412bf012",
   "metadata": {},
   "outputs": [
    {
     "name": "stdout",
     "output_type": "stream",
     "text": [
      "['de', 'la', 'que', 'el', 'en', 'y', 'a', 'los', 'del', 'se', 'las', 'por', 'un', 'para', 'con', 'no', 'una', 'su', 'al', 'lo', 'como', 'más', 'pero', 'sus', 'le', 'ya', 'o', 'este', 'sí', 'porque', 'esta', 'entre', 'cuando', 'muy', 'sin', 'sobre', 'también', 'me', 'hasta', 'hay', 'donde', 'quien', 'desde', 'todo', 'nos', 'durante', 'todos', 'uno', 'les', 'ni', 'contra', 'otros', 'ese', 'eso', 'ante', 'ellos', 'e', 'esto', 'mí', 'antes', 'algunos', 'qué', 'unos', 'yo', 'otro', 'otras', 'otra', 'él', 'tanto', 'esa', 'estos', 'mucho', 'quienes', 'nada', 'muchos', 'cual', 'poco', 'ella', 'estar', 'estas', 'algunas', 'algo', 'nosotros', 'mi', 'mis', 'tú', 'te', 'ti', 'tu', 'tus', 'ellas', 'nosotras', 'vosotros', 'vosotras', 'os', 'mío', 'mía', 'míos', 'mías', 'tuyo', 'tuya', 'tuyos', 'tuyas', 'suyo', 'suya', 'suyos', 'suyas', 'nuestro', 'nuestra', 'nuestros', 'nuestras', 'vuestro', 'vuestra', 'vuestros', 'vuestras', 'esos', 'esas', 'estoy', 'estás', 'está', 'estamos', 'estáis', 'están', 'esté', 'estés', 'estemos', 'estéis', 'estén', 'estaré', 'estarás', 'estará', 'estaremos', 'estaréis', 'estarán', 'estaría', 'estarías', 'estaríamos', 'estaríais', 'estarían', 'estaba', 'estabas', 'estábamos', 'estabais', 'estaban', 'estuve', 'estuviste', 'estuvo', 'estuvimos', 'estuvisteis', 'estuvieron', 'estuviera', 'estuvieras', 'estuviéramos', 'estuvierais', 'estuvieran', 'estuviese', 'estuvieses', 'estuviésemos', 'estuvieseis', 'estuviesen', 'estando', 'estado', 'estada', 'estados', 'estadas', 'estad', 'he', 'has', 'ha', 'hemos', 'habéis', 'han', 'haya', 'hayas', 'hayamos', 'hayáis', 'hayan', 'habré', 'habrás', 'habrá', 'habremos', 'habréis', 'habrán', 'habría', 'habrías', 'habríamos', 'habríais', 'habrían', 'había', 'habías', 'habíamos', 'habíais', 'habían', 'hube', 'hubiste', 'hubo', 'hubimos', 'hubisteis', 'hubieron', 'hubiera', 'hubieras', 'hubiéramos', 'hubierais', 'hubieran', 'hubiese', 'hubieses', 'hubiésemos', 'hubieseis', 'hubiesen', 'habiendo', 'habido', 'habida', 'habidos', 'habidas', 'soy', 'eres', 'es', 'somos', 'sois', 'son', 'sea', 'seas', 'seamos', 'seáis', 'sean', 'seré', 'serás', 'será', 'seremos', 'seréis', 'serán', 'sería', 'serías', 'seríamos', 'seríais', 'serían', 'era', 'eras', 'éramos', 'erais', 'eran', 'fui', 'fuiste', 'fue', 'fuimos', 'fuisteis', 'fueron', 'fuera', 'fueras', 'fuéramos', 'fuerais', 'fueran', 'fuese', 'fueses', 'fuésemos', 'fueseis', 'fuesen', 'sintiendo', 'sentido', 'sentida', 'sentidos', 'sentidas', 'siente', 'sentid', 'tengo', 'tienes', 'tiene', 'tenemos', 'tenéis', 'tienen', 'tenga', 'tengas', 'tengamos', 'tengáis', 'tengan', 'tendré', 'tendrás', 'tendrá', 'tendremos', 'tendréis', 'tendrán', 'tendría', 'tendrías', 'tendríamos', 'tendríais', 'tendrían', 'tenía', 'tenías', 'teníamos', 'teníais', 'tenían', 'tuve', 'tuviste', 'tuvo', 'tuvimos', 'tuvisteis', 'tuvieron', 'tuviera', 'tuvieras', 'tuviéramos', 'tuvierais', 'tuvieran', 'tuviese', 'tuvieses', 'tuviésemos', 'tuvieseis', 'tuviesen', 'teniendo', 'tenido', 'tenida', 'tenidos', 'tenidas', 'tened']\n"
     ]
    }
   ],
   "source": [
    "print(stopsS)"
   ]
  },
  {
   "cell_type": "code",
   "execution_count": 16,
   "id": "f3ec3f31",
   "metadata": {},
   "outputs": [],
   "source": [
    "#Remove the stopwords"
   ]
  },
  {
   "cell_type": "code",
   "execution_count": 25,
   "id": "99d7d0f8",
   "metadata": {},
   "outputs": [],
   "source": [
    "text=\"We are learning stopwords removal IN THE CLASS today with 40 students\"\n",
    "text=text.lower()"
   ]
  },
  {
   "cell_type": "code",
   "execution_count": 26,
   "id": "1e64f984",
   "metadata": {},
   "outputs": [
    {
     "name": "stdout",
     "output_type": "stream",
     "text": [
      "we are learning stopwords removal in the class today with 40 students\n"
     ]
    }
   ],
   "source": [
    "print(text)"
   ]
  },
  {
   "cell_type": "code",
   "execution_count": 27,
   "id": "67f0d9db",
   "metadata": {},
   "outputs": [],
   "source": [
    "from nltk.tokenize import word_tokenize"
   ]
  },
  {
   "cell_type": "code",
   "execution_count": 46,
   "id": "3da786b5",
   "metadata": {},
   "outputs": [],
   "source": [
    "tokens=word_tokenize(text)\n",
    "filters=[]"
   ]
  },
  {
   "cell_type": "code",
   "execution_count": 37,
   "id": "62aeeaf8",
   "metadata": {},
   "outputs": [],
   "source": [
    "# for token in tokens:\n",
    "#     for stop in stops:\n",
    "#         if token==stop:\n",
    "#             tokens.remove(token)"
   ]
  },
  {
   "cell_type": "code",
   "execution_count": 47,
   "id": "18f89d3b",
   "metadata": {},
   "outputs": [],
   "source": [
    "for word in tokens:\n",
    "    if word not in stops:\n",
    "        filters.append(word)"
   ]
  },
  {
   "cell_type": "code",
   "execution_count": 30,
   "id": "461d478b",
   "metadata": {},
   "outputs": [
    {
     "name": "stdout",
     "output_type": "stream",
     "text": [
      "['are', 'learning', 'stopwords', 'removal', 'the', 'class', 'today', '40', 'students']\n"
     ]
    }
   ],
   "source": [
    "# print(tokens)"
   ]
  },
  {
   "cell_type": "code",
   "execution_count": 48,
   "id": "5fc759eb",
   "metadata": {},
   "outputs": [
    {
     "name": "stdout",
     "output_type": "stream",
     "text": [
      "['learning', 'stopwords', 'removal', 'class', 'today', '40', 'students']\n"
     ]
    }
   ],
   "source": [
    "print(filters)"
   ]
  },
  {
   "cell_type": "code",
   "execution_count": 50,
   "id": "7a01ee7f",
   "metadata": {},
   "outputs": [],
   "source": [
    "text2=\"India will surely win the World Cup next time, I just bet it!\"\n",
    "text2=text2.lower()"
   ]
  },
  {
   "cell_type": "code",
   "execution_count": 59,
   "id": "8b329e67",
   "metadata": {},
   "outputs": [],
   "source": [
    "tokens2=word_tokenize(text2)\n",
    "filters2=[]"
   ]
  },
  {
   "cell_type": "code",
   "execution_count": 60,
   "id": "7d680334",
   "metadata": {},
   "outputs": [],
   "source": [
    "for word in tokens2:\n",
    "    if word not in stops:\n",
    "        filters2.append(word)"
   ]
  },
  {
   "cell_type": "code",
   "execution_count": 61,
   "id": "136b2278",
   "metadata": {},
   "outputs": [
    {
     "name": "stdout",
     "output_type": "stream",
     "text": [
      "['india', 'surely', 'win', 'world', 'cup', 'next', 'time', ',', 'bet', '!']\n"
     ]
    }
   ],
   "source": [
    "print(filters2)"
   ]
  },
  {
   "cell_type": "code",
   "execution_count": 62,
   "id": "333e2c64",
   "metadata": {},
   "outputs": [],
   "source": [
    "from nltk.stem import LancasterStemmer"
   ]
  },
  {
   "cell_type": "code",
   "execution_count": 65,
   "id": "f494718e",
   "metadata": {},
   "outputs": [
    {
     "name": "stdout",
     "output_type": "stream",
     "text": [
      "ind sur win world cup next tim , bet ! "
     ]
    }
   ],
   "source": [
    "ls=LancasterStemmer()\n",
    "for i in filters2:\n",
    "    print(ls.stem(i),end=\" \")"
   ]
  },
  {
   "cell_type": "code",
   "execution_count": null,
   "id": "daed6a52",
   "metadata": {},
   "outputs": [],
   "source": []
  }
 ],
 "metadata": {
  "kernelspec": {
   "display_name": "Python 3 (ipykernel)",
   "language": "python",
   "name": "python3"
  },
  "language_info": {
   "codemirror_mode": {
    "name": "ipython",
    "version": 3
   },
   "file_extension": ".py",
   "mimetype": "text/x-python",
   "name": "python",
   "nbconvert_exporter": "python",
   "pygments_lexer": "ipython3",
   "version": "3.8.0"
  }
 },
 "nbformat": 4,
 "nbformat_minor": 5
}
