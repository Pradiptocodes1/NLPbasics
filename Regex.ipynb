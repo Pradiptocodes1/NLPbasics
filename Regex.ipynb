{
 "cells": [
  {
   "cell_type": "code",
   "execution_count": 1,
   "id": "98ea6026",
   "metadata": {},
   "outputs": [],
   "source": [
    "import re"
   ]
  },
  {
   "cell_type": "code",
   "execution_count": 2,
   "id": "5926027c",
   "metadata": {},
   "outputs": [
    {
     "data": {
      "text/plain": [
       "['A',\n",
       " 'ASCII',\n",
       " 'DEBUG',\n",
       " 'DOTALL',\n",
       " 'I',\n",
       " 'IGNORECASE',\n",
       " 'L',\n",
       " 'LOCALE',\n",
       " 'M',\n",
       " 'MULTILINE',\n",
       " 'Match',\n",
       " 'Pattern',\n",
       " 'RegexFlag',\n",
       " 'S',\n",
       " 'Scanner',\n",
       " 'T',\n",
       " 'TEMPLATE',\n",
       " 'U',\n",
       " 'UNICODE',\n",
       " 'VERBOSE',\n",
       " 'X',\n",
       " '_MAXCACHE',\n",
       " '__all__',\n",
       " '__builtins__',\n",
       " '__cached__',\n",
       " '__doc__',\n",
       " '__file__',\n",
       " '__loader__',\n",
       " '__name__',\n",
       " '__package__',\n",
       " '__spec__',\n",
       " '__version__',\n",
       " '_cache',\n",
       " '_compile',\n",
       " '_compile_repl',\n",
       " '_expand',\n",
       " '_locale',\n",
       " '_pickle',\n",
       " '_special_chars_map',\n",
       " '_subx',\n",
       " 'compile',\n",
       " 'copyreg',\n",
       " 'enum',\n",
       " 'error',\n",
       " 'escape',\n",
       " 'findall',\n",
       " 'finditer',\n",
       " 'fullmatch',\n",
       " 'functools',\n",
       " 'match',\n",
       " 'purge',\n",
       " 'search',\n",
       " 'split',\n",
       " 'sre_compile',\n",
       " 'sre_parse',\n",
       " 'sub',\n",
       " 'subn',\n",
       " 'template']"
      ]
     },
     "execution_count": 2,
     "metadata": {},
     "output_type": "execute_result"
    }
   ],
   "source": [
    "dir(re)"
   ]
  },
  {
   "cell_type": "code",
   "execution_count": 3,
   "id": "5f386c48",
   "metadata": {},
   "outputs": [],
   "source": [
    "text=\"Hello...123##India!...my students ROCKS\"\n",
    "sub=\"Natural Language Processing\""
   ]
  },
  {
   "cell_type": "code",
   "execution_count": 4,
   "id": "191b5b41",
   "metadata": {},
   "outputs": [],
   "source": [
    "#re.findall(pattern, source)"
   ]
  },
  {
   "cell_type": "code",
   "execution_count": 5,
   "id": "3386b80b",
   "metadata": {},
   "outputs": [
    {
     "data": {
      "text/plain": [
       "['N', 'L', 'P']"
      ]
     },
     "execution_count": 5,
     "metadata": {},
     "output_type": "execute_result"
    }
   ],
   "source": [
    "re.findall('[A-Z]',sub)"
   ]
  },
  {
   "cell_type": "code",
   "execution_count": 6,
   "id": "e12e1eed",
   "metadata": {},
   "outputs": [
    {
     "data": {
      "text/plain": [
       "['N']"
      ]
     },
     "execution_count": 6,
     "metadata": {},
     "output_type": "execute_result"
    }
   ],
   "source": [
    "re.findall('^[A-Z]',sub)  #^ caret indicating start"
   ]
  },
  {
   "cell_type": "code",
   "execution_count": 8,
   "id": "8cc39956",
   "metadata": {},
   "outputs": [
    {
     "data": {
      "text/plain": [
       "['N', ' ', 'L', ' ', 'P']"
      ]
     },
     "execution_count": 8,
     "metadata": {},
     "output_type": "execute_result"
    }
   ],
   "source": [
    "re.findall('[^a-z]',sub) #caret inside square bracket indicates negation"
   ]
  },
  {
   "cell_type": "code",
   "execution_count": 9,
   "id": "6a97b8d3",
   "metadata": {},
   "outputs": [],
   "source": [
    "#extract all alphanumeric letters:a-z A-Z 0-9 _:\\w"
   ]
  },
  {
   "cell_type": "code",
   "execution_count": 11,
   "id": "46737812",
   "metadata": {},
   "outputs": [
    {
     "data": {
      "text/plain": [
       "['Hello',\n",
       " '',\n",
       " '',\n",
       " '',\n",
       " '123',\n",
       " '',\n",
       " '',\n",
       " 'India',\n",
       " '',\n",
       " '',\n",
       " '',\n",
       " '',\n",
       " 'my',\n",
       " '',\n",
       " 'students',\n",
       " '',\n",
       " 'ROCKS',\n",
       " '']"
      ]
     },
     "execution_count": 11,
     "metadata": {},
     "output_type": "execute_result"
    }
   ],
   "source": [
    "re.findall('\\w*',text)"
   ]
  },
  {
   "cell_type": "code",
   "execution_count": 12,
   "id": "a810be54",
   "metadata": {},
   "outputs": [
    {
     "data": {
      "text/plain": [
       "['.', '.', '.', '#', '#', '!', '.', '.', '.', ' ', ' ']"
      ]
     },
     "execution_count": 12,
     "metadata": {},
     "output_type": "execute_result"
    }
   ],
   "source": [
    "re.findall('\\W',text) #non letters"
   ]
  },
  {
   "cell_type": "code",
   "execution_count": 18,
   "id": "e4ec1183",
   "metadata": {},
   "outputs": [
    {
     "data": {
      "text/plain": [
       "['India']"
      ]
     },
     "execution_count": 18,
     "metadata": {},
     "output_type": "execute_result"
    }
   ],
   "source": [
    "re.findall('i.*a',text,flags=re.IGNORECASE)"
   ]
  },
  {
   "cell_type": "code",
   "execution_count": 23,
   "id": "669a5b1c",
   "metadata": {},
   "outputs": [
    {
     "data": {
      "text/plain": [
       "['ROCKS', '']"
      ]
     },
     "execution_count": 23,
     "metadata": {},
     "output_type": "execute_result"
    }
   ],
   "source": [
    "re.findall('[A-Z]*$',text,flags=re.IGNORECASE) "
   ]
  },
  {
   "cell_type": "code",
   "execution_count": 22,
   "id": "ee151048",
   "metadata": {},
   "outputs": [
    {
     "data": {
      "text/plain": [
       "['S']"
      ]
     },
     "execution_count": 22,
     "metadata": {},
     "output_type": "execute_result"
    }
   ],
   "source": [
    "re.findall('.$',text)"
   ]
  },
  {
   "cell_type": "code",
   "execution_count": 24,
   "id": "6ff38919",
   "metadata": {},
   "outputs": [
    {
     "data": {
      "text/plain": [
       "['H',\n",
       " 'e',\n",
       " 'l',\n",
       " 'l',\n",
       " 'o',\n",
       " '.',\n",
       " '.',\n",
       " '.',\n",
       " '1',\n",
       " '2',\n",
       " '3',\n",
       " '#',\n",
       " '#',\n",
       " 'I',\n",
       " 'n',\n",
       " 'd',\n",
       " 'i',\n",
       " 'a',\n",
       " '!',\n",
       " '.',\n",
       " '.',\n",
       " '.',\n",
       " 'm',\n",
       " 'y',\n",
       " ' ',\n",
       " 's',\n",
       " 't',\n",
       " 'u',\n",
       " 'd',\n",
       " 'e',\n",
       " 'n',\n",
       " 't',\n",
       " 's',\n",
       " ' ',\n",
       " 'R',\n",
       " 'O',\n",
       " 'C',\n",
       " 'K',\n",
       " 'S']"
      ]
     },
     "execution_count": 24,
     "metadata": {},
     "output_type": "execute_result"
    }
   ],
   "source": [
    "re.findall('.',text)"
   ]
  },
  {
   "cell_type": "code",
   "execution_count": 25,
   "id": "98906941",
   "metadata": {},
   "outputs": [
    {
     "data": {
      "text/plain": [
       "['.', '.', '.', '.', '.', '.']"
      ]
     },
     "execution_count": 25,
     "metadata": {},
     "output_type": "execute_result"
    }
   ],
   "source": [
    "re.findall('\\.',text)"
   ]
  },
  {
   "cell_type": "code",
   "execution_count": 26,
   "id": "697d16fd",
   "metadata": {},
   "outputs": [
    {
     "data": {
      "text/plain": [
       "['...', '...']"
      ]
     },
     "execution_count": 26,
     "metadata": {},
     "output_type": "execute_result"
    }
   ],
   "source": [
    "re.findall('\\.+',text)"
   ]
  },
  {
   "cell_type": "code",
   "execution_count": 27,
   "id": "9aa1de47",
   "metadata": {},
   "outputs": [],
   "source": [
    "email=\"pradipta@gmail.com\""
   ]
  },
  {
   "cell_type": "code",
   "execution_count": 29,
   "id": "30557bc7",
   "metadata": {},
   "outputs": [
    {
     "data": {
      "text/plain": [
       "'pradipta@kiit.ac.in'"
      ]
     },
     "execution_count": 29,
     "metadata": {},
     "output_type": "execute_result"
    }
   ],
   "source": [
    "re.sub(\"@gmail.com\",\"@kiit.ac.in\",email)"
   ]
  },
  {
   "cell_type": "code",
   "execution_count": null,
   "id": "78560bfa",
   "metadata": {},
   "outputs": [],
   "source": []
  }
 ],
 "metadata": {
  "kernelspec": {
   "display_name": "Python 3 (ipykernel)",
   "language": "python",
   "name": "python3"
  },
  "language_info": {
   "codemirror_mode": {
    "name": "ipython",
    "version": 3
   },
   "file_extension": ".py",
   "mimetype": "text/x-python",
   "name": "python",
   "nbconvert_exporter": "python",
   "pygments_lexer": "ipython3",
   "version": "3.8.0"
  }
 },
 "nbformat": 4,
 "nbformat_minor": 5
}
