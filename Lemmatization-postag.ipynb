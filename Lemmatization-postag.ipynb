{
 "cells": [
  {
   "cell_type": "code",
   "execution_count": 1,
   "id": "11bd9d9d",
   "metadata": {},
   "outputs": [],
   "source": [
    "import nltk"
   ]
  },
  {
   "cell_type": "code",
   "execution_count": 6,
   "id": "5dc31ad3",
   "metadata": {},
   "outputs": [
    {
     "name": "stderr",
     "output_type": "stream",
     "text": [
      "[nltk_data] Downloading package wordnet to\n",
      "[nltk_data]     C:\\Users\\KIIT\\AppData\\Roaming\\nltk_data...\n"
     ]
    },
    {
     "data": {
      "text/plain": [
       "True"
      ]
     },
     "execution_count": 6,
     "metadata": {},
     "output_type": "execute_result"
    }
   ],
   "source": [
    "nltk.download('wordnet')"
   ]
  },
  {
   "cell_type": "code",
   "execution_count": 23,
   "id": "1e51d33e",
   "metadata": {},
   "outputs": [
    {
     "name": "stderr",
     "output_type": "stream",
     "text": [
      "[nltk_data] Downloading package averaged_perceptron_tagger to\n",
      "[nltk_data]     C:\\Users\\KIIT\\AppData\\Roaming\\nltk_data...\n",
      "[nltk_data]   Unzipping taggers\\averaged_perceptron_tagger.zip.\n"
     ]
    },
    {
     "data": {
      "text/plain": [
       "True"
      ]
     },
     "execution_count": 23,
     "metadata": {},
     "output_type": "execute_result"
    }
   ],
   "source": [
    "nltk.download('averaged_perceptron_tagger')"
   ]
  },
  {
   "cell_type": "code",
   "execution_count": 2,
   "id": "3229ee4b",
   "metadata": {},
   "outputs": [],
   "source": [
    "from nltk.stem import WordNetLemmatizer"
   ]
  },
  {
   "cell_type": "code",
   "execution_count": 3,
   "id": "5ebb74bf",
   "metadata": {},
   "outputs": [],
   "source": [
    "wnl=WordNetLemmatizer()"
   ]
  },
  {
   "cell_type": "code",
   "execution_count": 7,
   "id": "865f86c4",
   "metadata": {},
   "outputs": [
    {
     "data": {
      "text/plain": [
       "'corpus'"
      ]
     },
     "execution_count": 7,
     "metadata": {},
     "output_type": "execute_result"
    }
   ],
   "source": [
    "wnl.lemmatize('corpora')"
   ]
  },
  {
   "cell_type": "code",
   "execution_count": 8,
   "id": "7bd1edc6",
   "metadata": {},
   "outputs": [],
   "source": [
    "wordlist = ['cries','stolen','very','goes','giving','automata']"
   ]
  },
  {
   "cell_type": "code",
   "execution_count": 13,
   "id": "e966b8db",
   "metadata": {},
   "outputs": [
    {
     "name": "stdout",
     "output_type": "stream",
     "text": [
      "cry stolen very go giving automaton "
     ]
    }
   ],
   "source": [
    "for word in range(0,len(wordlist)):\n",
    "    print(wnl.lemmatize(wordlist[word]),end=' ')"
   ]
  },
  {
   "cell_type": "code",
   "execution_count": 15,
   "id": "2da39877",
   "metadata": {},
   "outputs": [],
   "source": [
    "##pos tagging (part of sppech)"
   ]
  },
  {
   "cell_type": "code",
   "execution_count": 17,
   "id": "38bb55ff",
   "metadata": {},
   "outputs": [],
   "source": [
    "from nltk import pos_tag"
   ]
  },
  {
   "cell_type": "code",
   "execution_count": 18,
   "id": "09e54fc0",
   "metadata": {},
   "outputs": [],
   "source": [
    "str1=\"She is an amazing student\""
   ]
  },
  {
   "cell_type": "code",
   "execution_count": 19,
   "id": "56f1f9b2",
   "metadata": {},
   "outputs": [],
   "source": [
    "from nltk.tokenize import word_tokenize"
   ]
  },
  {
   "cell_type": "code",
   "execution_count": 20,
   "id": "1b877095",
   "metadata": {},
   "outputs": [],
   "source": [
    "tokens=word_tokenize(str1)"
   ]
  },
  {
   "cell_type": "code",
   "execution_count": 21,
   "id": "7ed565c0",
   "metadata": {},
   "outputs": [
    {
     "name": "stdout",
     "output_type": "stream",
     "text": [
      "['She', 'is', 'an', 'amazing', 'student']\n"
     ]
    }
   ],
   "source": [
    "print(tokens)"
   ]
  },
  {
   "cell_type": "code",
   "execution_count": 24,
   "id": "3e586056",
   "metadata": {},
   "outputs": [
    {
     "data": {
      "text/plain": [
       "[('She', 'PRP'),\n",
       " ('is', 'VBZ'),\n",
       " ('an', 'DT'),\n",
       " ('amazing', 'JJ'),\n",
       " ('student', 'NN')]"
      ]
     },
     "execution_count": 24,
     "metadata": {},
     "output_type": "execute_result"
    }
   ],
   "source": [
    "pos_tag(tokens)"
   ]
  },
  {
   "cell_type": "code",
   "execution_count": 30,
   "id": "ab4d7f5c",
   "metadata": {},
   "outputs": [],
   "source": [
    "str2=\"nandini is a brilliant student and she attends class regularly too\""
   ]
  },
  {
   "cell_type": "code",
   "execution_count": 31,
   "id": "909313fb",
   "metadata": {},
   "outputs": [],
   "source": [
    "tokens2=word_tokenize(str2)"
   ]
  },
  {
   "cell_type": "code",
   "execution_count": 32,
   "id": "b8eb0c9c",
   "metadata": {},
   "outputs": [
    {
     "name": "stdout",
     "output_type": "stream",
     "text": [
      "['nandini', 'is', 'a', 'brilliant', 'student', 'and', 'she', 'attends', 'class', 'regularly', 'too']\n"
     ]
    }
   ],
   "source": [
    "print(tokens2)"
   ]
  },
  {
   "cell_type": "code",
   "execution_count": 33,
   "id": "720eb93f",
   "metadata": {},
   "outputs": [
    {
     "data": {
      "text/plain": [
       "[('nandini', 'NN'),\n",
       " ('is', 'VBZ'),\n",
       " ('a', 'DT'),\n",
       " ('brilliant', 'JJ'),\n",
       " ('student', 'NN'),\n",
       " ('and', 'CC'),\n",
       " ('she', 'PRP'),\n",
       " ('attends', 'VBZ'),\n",
       " ('class', 'NN'),\n",
       " ('regularly', 'RB'),\n",
       " ('too', 'RB')]"
      ]
     },
     "execution_count": 33,
     "metadata": {},
     "output_type": "execute_result"
    }
   ],
   "source": [
    "pos_tag(tokens2)"
   ]
  },
  {
   "cell_type": "code",
   "execution_count": null,
   "id": "68d2fdca",
   "metadata": {},
   "outputs": [],
   "source": [
    "##try NER and chunking"
   ]
  }
 ],
 "metadata": {
  "kernelspec": {
   "display_name": "Python 3 (ipykernel)",
   "language": "python",
   "name": "python3"
  },
  "language_info": {
   "codemirror_mode": {
    "name": "ipython",
    "version": 3
   },
   "file_extension": ".py",
   "mimetype": "text/x-python",
   "name": "python",
   "nbconvert_exporter": "python",
   "pygments_lexer": "ipython3",
   "version": "3.8.0"
  }
 },
 "nbformat": 4,
 "nbformat_minor": 5
}
